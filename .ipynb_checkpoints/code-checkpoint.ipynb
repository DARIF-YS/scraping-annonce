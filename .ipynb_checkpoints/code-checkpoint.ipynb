{
 "cells": [
  {
   "cell_type": "markdown",
   "id": "a2c15592-9de9-4773-ac27-1a02ed7e1ef6",
   "metadata": {},
   "source": [
    "### <p style=\"text-align: center;\">Script de Web Scraping : Annonces de Location Immobilière</p>\r\n",
    "\n"
   ]
  },
  {
   "cell_type": "markdown",
   "id": "df67e679-8c8e-4014-aecb-f310cbd1f509",
   "metadata": {},
   "source": [
    "## 0. Introduction"
   ]
  },
  {
   "cell_type": "markdown",
   "id": "337f86f1-8166-465d-890d-acea55a5c282",
   "metadata": {},
   "source": [
    "#### {} Ce code permet l'extraction des informations des annonces de locations immobilières dans deux villes : Rabat  et Marrakech, à partir de deux sites web : RabatImmo.ma et Sarouty.ma. \n",
    "#### {} Il utilise <strong>Selenium</strong> pour naviguer  sur les pages et charger dynamiquement le contenu, ainsi que <strong>BeautifulSoup</strong> pour analyser le HTML et extraire les informations pertinentes."
   ]
  },
  {
   "cell_type": "markdown",
   "id": "0db7a472-8ed8-410c-84c3-87a7ce4496b7",
   "metadata": {},
   "source": [
    "## 1. Installation"
   ]
  },
  {
   "cell_type": "code",
   "execution_count": null,
   "id": "45faf888-5863-4641-9520-33fb960a87eb",
   "metadata": {},
   "outputs": [],
   "source": [
    "!pip install selenium\n",
    "!pip install BeautifulSoup\n",
    "!pip install Flask"
   ]
  },
  {
   "cell_type": "markdown",
   "id": "af91b5c8-6aae-44e6-882c-5b063556b019",
   "metadata": {},
   "source": [
    "## 2. Code"
   ]
  },
  {
   "cell_type": "markdown",
   "id": "be7aeadf-cccc-4945-b295-189e23045501",
   "metadata": {},
   "source": [
    "### 2.1 Importation des bibliotheques"
   ]
  },
  {
   "cell_type": "code",
   "execution_count": 30,
   "id": "72578d7b-c234-4fc7-88d0-b88bb18e2865",
   "metadata": {},
   "outputs": [],
   "source": [
    "from selenium import webdriver\n",
    "from bs4 import BeautifulSoup\n",
    "from flask import Flask, render_template\n",
    "import time, json, pandas as pd"
   ]
  },
  {
   "cell_type": "markdown",
   "id": "af7de012-c977-4d70-a3cf-a643947a4fc8",
   "metadata": {},
   "source": [
    "### 2.2 Les fonctions"
   ]
  },
  {
   "cell_type": "markdown",
   "id": "2dd14804-ff96-42c9-add7-f37499d3847e",
   "metadata": {},
   "source": [
    "#### 2.2.1 Ouverture du navigateur via Selenium et récupération du contenu des pages.  "
   ]
  },
  {
   "cell_type": "code",
   "execution_count": 33,
   "id": "b22be234-4fea-4f51-a5bb-ae70496bd83f",
   "metadata": {},
   "outputs": [],
   "source": [
    "def get_html(url):\n",
    "    # Ouvrir la page avec Selenium\n",
    "    driver.get(url)\n",
    "    \n",
    "    # Attendre que la page se charge complètement\n",
    "    time.sleep(4)\n",
    "    \n",
    "    # Récupérer le contenu de la page\n",
    "    page_source = driver.page_source\n",
    "    \n",
    "    # Faire défiler la page pour charger plus de contenu\n",
    "    scroller()\n",
    "    \n",
    "    # Utiliser BeautifulSoup pour parser le contenu et le retourner\n",
    "    return BeautifulSoup(page_source, 'lxml')"
   ]
  },
  {
   "cell_type": "markdown",
   "id": "c500e155-9f01-4a32-a33b-e389a079b435",
   "metadata": {},
   "source": [
    "#### 2.2.2 Défilement automatique pour charger toutes les annonces."
   ]
  },
  {
   "cell_type": "code",
   "execution_count": 35,
   "id": "ed06f667-f861-45b3-b8f6-585872eba5df",
   "metadata": {},
   "outputs": [],
   "source": [
    "def scroller():\n",
    "    # Récupérer la hauteur totale de la page\n",
    "    page_height = driver.execute_script(\"return document.body.scrollHeight\")\n",
    "    \n",
    "    # Scroller progressivement pour charger toutes les annonces\n",
    "    for i in range(7):\n",
    "        scroll_position = (i + 1) * (page_height / 7)\n",
    "        driver.execute_script(f\"window.scrollTo(0, {scroll_position});\")\n",
    "        time.sleep(1)"
   ]
  },
  {
   "cell_type": "markdown",
   "id": "0d598a1f-4e64-47a8-ba64-2530acc2352e",
   "metadata": {},
   "source": [
    "#### 2.2.3 Scraping du site 1"
   ]
  },
  {
   "cell_type": "code",
   "execution_count": 37,
   "id": "05c290d6-7bc1-488b-9255-a678d554ae8b",
   "metadata": {},
   "outputs": [],
   "source": [
    "def scrape_site_1():\n",
    "    # Récupérer le code HTML de la page\n",
    "    soup = get_html(\"https://rabatimmo.ma/\")\n",
    "    \n",
    "    # Liste pour stocker les annonces\n",
    "    annonces_data = []\n",
    "\n",
    "    # Récupérer toutes les annonces de la page\n",
    "    annonces = soup.find_all('div', class_=\"rh_prop_card__details_elementor\")\n",
    "    \n",
    "    for annonce in annonces:\n",
    "        if annonce:\n",
    "            # Extraction des éléments d'une annonce\n",
    "            description_element = annonce.find('h3')\n",
    "            lien_element        = annonce.find('a')\n",
    "            prix_element        = annonce.find('p', class_=\"rh_prop_card__price\")\n",
    "\n",
    "            # Récupération des données texte\n",
    "            description = description_element.a.get_text(strip=True) if description_element and description_element.a else None\n",
    "            prix        = prix_element.get_text(strip=True) if prix_element else None\n",
    "            adresse     = None  # Adresse non disponible sur ce site\n",
    "            lien        = lien_element.get('href') if lien_element else None\n",
    "\n",
    "            # Récupération des informations supplémentaires (chambres, salles de bains, surface)\n",
    "            infos = annonce.find_all('span', class_=\"figure\")\n",
    "            nb_chambres = infos[0].get_text(strip=True) if len(infos) > 0 else None\n",
    "            nb_sbains   = infos[1].get_text(strip=True) if len(infos) > 1 else None\n",
    "            surface     = infos[2].get_text(strip=True) if len(infos) > 2 else None\n",
    "\n",
    "            # Ajouter l'annonce sous forme de dictionnaire\n",
    "            annonces_data.append({\n",
    "                \"site\": \"rabatimmo.ma\",\n",
    "                \"lien_annonce\": lien,\n",
    "                \"titre\": description,\n",
    "                \"prix\": prix,\n",
    "                \"adresse\": adresse,\n",
    "                \"nb_chambres\": nb_chambres,\n",
    "                \"nb_salles_de_bains\": nb_sbains,\n",
    "                \"surface\": surface\n",
    "            })\n",
    "    return annonces_data"
   ]
  },
  {
   "cell_type": "markdown",
   "id": "f49e385c-7a68-4b67-9ade-4b8ce8c8f003",
   "metadata": {},
   "source": [
    "#### 2.2.4 Scraping du site 2"
   ]
  },
  {
   "cell_type": "code",
   "execution_count": 39,
   "id": "a4b8cf33-93bc-4f70-b961-e86c8cdd1671",
   "metadata": {},
   "outputs": [],
   "source": [
    "def scrape_site_2():\n",
    "    # Récupérer le code HTML de la page\n",
    "    soup = get_html(\"https://www.sarouty.ma/louer/marrakech/appartements-a-louer.html\")\n",
    "\n",
    "    # Liste pour stocker les annonces\n",
    "    annonces_data = []\n",
    "\n",
    "    # Récupérer toutes les annonces de la page\n",
    "    annonces = soup.find_all('div', class_=\"card__body\")\n",
    "    \n",
    "    for annonce in annonces:\n",
    "        if annonce:\n",
    "            # Extraction des éléments d'une annonce\n",
    "            description_element = annonce.find('h2', class_=\"card-intro__title\")\n",
    "            lien_element        = annonce.find_previous_sibling()  # Trouver l'élément frère précédent\n",
    "            prix_element        = annonce.find('p', class_=\"card-intro__price\")\n",
    "            adresse_element     = annonce.find('span', class_=\"card-specifications__location-text\")\n",
    "\n",
    "            # Récupération des données texte\n",
    "            description = description_element.get_text(strip=True) if description_element else None\n",
    "            lien        = lien_element.get('href') if lien_element else None\n",
    "            prix        = prix_element.get_text(strip=True) if prix_element else None\n",
    "            adresse     = adresse_element.get_text(strip=True) if adresse_element else None\n",
    "\n",
    "            # Récupération des informations supplémentaires (chambres, salles de bains, surface)\n",
    "            infos = annonce.find_all('p', class_=\"card-specifications__item\")\n",
    "            nb_chambres = infos[0].get_text(strip=True) if len(infos) > 0 else None\n",
    "            nb_sbains   = infos[1].get_text(strip=True) if len(infos) > 1 else None\n",
    "            surface     = infos[2].get_text(strip=True) if len(infos) > 2 else None\n",
    "\n",
    "            # Ajouter l'annonce sous forme de dictionnaire\n",
    "            annonces_data.append({\n",
    "                \"site\": \"www.sarouty.ma\",\n",
    "                \"lien_annonce\": lien,\n",
    "                \"titre\": description,\n",
    "                \"prix\": prix,\n",
    "                \"adresse\": adresse,\n",
    "                \"nb_chambres\": nb_chambres,\n",
    "                \"nb_salles_de_bains\": nb_sbains,\n",
    "                \"surface\": surface\n",
    "            })\n",
    "    return annonces_data\n"
   ]
  },
  {
   "cell_type": "markdown",
   "id": "28a9e0f1-df2f-42ff-b89b-1d661f760389",
   "metadata": {},
   "source": [
    "### 3. Le code principale pour scraper les 2 sites"
   ]
  },
  {
   "cell_type": "code",
   "execution_count": 41,
   "id": "25a7fc24-b8b5-4d7c-a9f7-7bef96c8e4e2",
   "metadata": {},
   "outputs": [],
   "source": [
    "# Initialisation du WebDriver\n",
    "options = webdriver.ChromeOptions()\n",
    "options.add_argument(\"--start-maximized\")  # Exécuter en mode plein écran\n",
    "\n",
    "driver = webdriver.Chrome(options=options)\n",
    "\n",
    "# Scraper les sites et fusionner les résultats\n",
    "data_site_1 = scrape_site_1()\n",
    "data_site_2 = scrape_site_2()\n",
    "merged_data = data_site_1 + data_site_2\n",
    "\n",
    "# Enregistrer les résultats dans un fichier JSON\n",
    "with open(\"annonces.json\", \"w\", encoding=\"utf-8\") as f:\n",
    "    json.dump(merged_data, f, indent=4, ensure_ascii=False)\n",
    "\n",
    "# Fermer le navigateur après le scraping\n",
    "driver.quit()"
   ]
  },
  {
   "cell_type": "markdown",
   "id": "15332d06-2d78-43bc-89e0-2564ae719ac5",
   "metadata": {},
   "source": [
    "## 4. Affichage du Data:"
   ]
  },
  {
   "cell_type": "markdown",
   "id": "9e35d5a7-d619-46f1-b0b8-ed3524ff90d4",
   "metadata": {},
   "source": [
    "### 4.0 En utilisant la bib pandas"
   ]
  },
  {
   "cell_type": "code",
   "execution_count": 44,
   "id": "52610c47-40ff-4386-9c48-91ebd29cb077",
   "metadata": {},
   "outputs": [
    {
     "name": "stdout",
     "output_type": "stream",
     "text": [
      "              site                                       lien_annonce  \\\n",
      "0     rabatimmo.ma  https://rabatimmo.ma/property/location-un-appa...   \n",
      "1     rabatimmo.ma  https://rabatimmo.ma/property/bureau-a-louer-5...   \n",
      "2     rabatimmo.ma  https://rabatimmo.ma/property/location-apparte...   \n",
      "3     rabatimmo.ma  https://rabatimmo.ma/property/location-villa-n...   \n",
      "4     rabatimmo.ma  https://rabatimmo.ma/property/des-appartement-...   \n",
      "5     rabatimmo.ma  https://rabatimmo.ma/property/location-villa-b...   \n",
      "6   www.sarouty.ma  https://www.sarouty.ma/plp/louer/appartement-a...   \n",
      "7   www.sarouty.ma  https://www.sarouty.ma/plp/louer/appartement-a...   \n",
      "8   www.sarouty.ma  https://www.sarouty.ma/plp/louer/appartement-a...   \n",
      "9   www.sarouty.ma  https://www.sarouty.ma/plp/louer/appartement-a...   \n",
      "10  www.sarouty.ma  https://www.sarouty.ma/plp/louer/appartement-a...   \n",
      "11  www.sarouty.ma  https://www.sarouty.ma/plp/louer/appartement-a...   \n",
      "12  www.sarouty.ma  https://www.sarouty.ma/plp/louer/appartement-a...   \n",
      "13  www.sarouty.ma  https://www.sarouty.ma/plp/louer/appartement-a...   \n",
      "14  www.sarouty.ma  https://www.sarouty.ma/plp/louer/appartement-a...   \n",
      "15  www.sarouty.ma  https://www.sarouty.ma/plp/louer/appartement-a...   \n",
      "16  www.sarouty.ma  https://www.sarouty.ma/plp/louer/appartement-a...   \n",
      "17  www.sarouty.ma  https://www.sarouty.ma/plp/louer/appartement-a...   \n",
      "18  www.sarouty.ma  https://www.sarouty.ma/plp/louer/appartement-a...   \n",
      "19  www.sarouty.ma  https://www.sarouty.ma/plp/louer/appartement-a...   \n",
      "20  www.sarouty.ma  https://www.sarouty.ma/plp/louer/appartement-a...   \n",
      "21  www.sarouty.ma  https://www.sarouty.ma/plp/louer/appartement-a...   \n",
      "22  www.sarouty.ma  https://www.sarouty.ma/plp/louer/appartement-a...   \n",
      "23  www.sarouty.ma  https://www.sarouty.ma/plp/louer/appartement-a...   \n",
      "24  www.sarouty.ma  https://www.sarouty.ma/plp/louer/appartement-a...   \n",
      "25  www.sarouty.ma  https://www.sarouty.ma/plp/louer/appartement-a...   \n",
      "26  www.sarouty.ma  https://www.sarouty.ma/plp/louer/appartement-a...   \n",
      "27  www.sarouty.ma  https://www.sarouty.ma/plp/louer/appartement-a...   \n",
      "28  www.sarouty.ma  https://www.sarouty.ma/plp/louer/appartement-a...   \n",
      "\n",
      "                                                titre             prix  \\\n",
      "0   Location un appartement chambre salon jolie te...         6,000MAD   \n",
      "1   Bureau à Louer – 5 Pièces dans un Quartier Pre...         7,000MAD   \n",
      "2   location appartement Rabat Agdal deux chambres...         7,500MAD   \n",
      "3           location villa neuve Sid El Abed Harhoura                    \n",
      "4   Des appartement dans une ferme meublés Ouad Ch...             1MAD   \n",
      "5                               location villa bureau        60,000MAD   \n",
      "6   Appartement duplex de 220 m2 à louer au circui...  12 500 MAD/mois   \n",
      "7                  APPARTEMENT CAMP EL GHOUL LOCATION   7 500 MAD/mois   \n",
      "8                 APPARTEMENT REZ DE JARDIN HIVERNAGE  25 000 MAD/mois   \n",
      "9         A LOUER APPARTEMENT CENTRE VILLE NON MEUBLE   7 000 MAD/mois   \n",
      "10  appartement 3 chambres a louer a presitgia vue...  12 000 MAD/mois   \n",
      "11  Appartement de 80m² en location longue durée –...  17 000 MAD/mois   \n",
      "12     APPARTEMENT TERRASSE -CENTRE GUELIZ-MARRAKECH-  10 000 MAD/mois   \n",
      "13       LOCATION BEAU REZ DE JARDIN-AGDAL -MARRAKECH  12 000 MAD/mois   \n",
      "14       MAGNIFIQUE APPARTEMENT DE STANDING PRESTIGIA  26 000 MAD/mois   \n",
      "15    TRES BEL APPARTEMENT MEUBLE-HIVERNAGE-MARRAKECH  12 000 MAD/mois   \n",
      "16          Appartement de 69 m² en location à Charaf   3 500 MAD/mois   \n",
      "17      LOCATION APPARTEMENT MEUBLE-GUELIZ-MARRAKECH-  16 000 MAD/mois   \n",
      "18  APPARTEMENT TRES BON STANDING A LA LOCATION TARGA  10 000 MAD/mois   \n",
      "19  LOCATION BEL APPARTEMENT NON MEUBLE-AMELKIS-MA...  10 000 MAD/mois   \n",
      "20                    JOLI STUDIO A LA LOCATION TARGA   6 000 MAD/mois   \n",
      "21  LOCATION BEL APPARTEMENT-RESIDENCE GOLFIQUE-MA...  10 000 MAD/mois   \n",
      "22                   Appartement en location à Charaf   3 600 MAD/mois   \n",
      "23  Location Appartement 3 pièces de 76 m2 à Marra...   7 000 MAD/mois   \n",
      "24      APPARTEMENT A LA LOCATION-PALMERAIE-MARRAKECH   7 500 MAD/mois   \n",
      "25  Location Appartement 3 pièces de 60 m2 à Marra...   4 000 MAD/mois   \n",
      "26          Appartement  meublé 68m² à louer Semlalia   6 000 MAD/mois   \n",
      "27            APPARTEMENT CENTRE VILLE GUELIZ A LOUER   8 000 MAD/mois   \n",
      "28     Appartement meublée à louer à Guéliz Marrakech  14 000 MAD/mois   \n",
      "\n",
      "                   adresse nb_chambres nb_salles_de_bains surface  \n",
      "0                     None           1                  1      70  \n",
      "1                     None           4                  2     100  \n",
      "2                     None           2                  2     100  \n",
      "3                     None        None               None    None  \n",
      "4                     None           2                  2   20000  \n",
      "5                     None           6                  5    2000  \n",
      "6     Palmeraie, Marrakech  5 bedrooms        2 bathrooms  220 m²  \n",
      "7   Victor Hugo, Marrakech  2 bedrooms         1 bathroom   80 m²  \n",
      "8     Hivernage, Marrakech  2 bedrooms         1 bathroom   80 m²  \n",
      "9        Guéliz, Marrakech  2 bedrooms        2 bathrooms   50 m²  \n",
      "10        Agdal, Marrakech  3 bedrooms        2 bathrooms   90 m²  \n",
      "11       Menara, Marrakech  2 bedrooms        2 bathrooms   80 m²  \n",
      "12       Guéliz, Marrakech   1 bedroom         1 bathroom   75 m²  \n",
      "13        Agdal, Marrakech  2 bedrooms        2 bathrooms  133 m²  \n",
      "14        Agdal, Marrakech  3 bedrooms        3 bathrooms  180 m²  \n",
      "15    Hivernage, Marrakech  2 bedrooms        2 bathrooms  100 m²  \n",
      "16   Hay Charaf, Marrakech  3 bedrooms        2 bathrooms   69 m²  \n",
      "17        Plaza, Marrakech  2 bedrooms        2 bathrooms  124 m²  \n",
      "18        Targa, Marrakech  2 bedrooms        2 bathrooms  100 m²  \n",
      "19     indéfini, Marrakech  2 bedrooms        2 bathrooms  120 m²  \n",
      "20        Targa, Marrakech      Studio         1 bathroom   40 m²  \n",
      "21     indéfini, Marrakech  2 bedrooms        2 bathrooms   80 m²  \n",
      "22   Hay Charaf, Marrakech  3 bedrooms         1 bathroom   78 m²  \n",
      "23  Hay Izdihar, Marrakech  2 bedrooms         1 bathroom   76 m²  \n",
      "24     indéfini, Marrakech  2 bedrooms        2 bathrooms   80 m²  \n",
      "25     Mabrouka, Marrakech  2 bedrooms         1 bathroom   60 m²  \n",
      "26     Semlalia, Marrakech  3 bedrooms         1 bathroom   68 m²  \n",
      "27       Guéliz, Marrakech  2 bedrooms         1 bathroom  100 m²  \n",
      "28       Guéliz, Marrakech  2 bedrooms         1 bathroom   90 m²  \n"
     ]
    }
   ],
   "source": [
    "# Charger les données depuis le fichier JSON\n",
    "df = pd.read_json(\"annonces.json\")\n",
    "\n",
    "# Afficher toutes les colonnes\n",
    "pd.set_option('display.max_columns', None)\n",
    "\n",
    "# Afficher le DataFrame\n",
    "print(df)\n"
   ]
  },
  {
   "cell_type": "markdown",
   "id": "67cccdd0-9752-44da-84b5-b2bbc9688597",
   "metadata": {},
   "source": [
    "#### 4.1 En utilisant le frameworke flask de python : pour les visualiser sous forme d'une table bien organisee"
   ]
  },
  {
   "cell_type": "code",
   "execution_count": null,
   "id": "c05c253d-1302-43ed-ad08-03c9afd50769",
   "metadata": {},
   "outputs": [
    {
     "name": "stdout",
     "output_type": "stream",
     "text": [
      " * Serving Flask app '__main__'\n",
      " * Debug mode: off\n"
     ]
    },
    {
     "name": "stderr",
     "output_type": "stream",
     "text": [
      "WARNING: This is a development server. Do not use it in a production deployment. Use a production WSGI server instead.\n",
      " * Running on http://127.0.0.1:5000\n",
      "Press CTRL+C to quit\n",
      "127.0.0.1 - - [21/Mar/2025 09:25:37] \"GET / HTTP/1.1\" 200 -\n",
      "127.0.0.1 - - [21/Mar/2025 09:25:37] \"GET /static/style.css HTTP/1.1\" 404 -\n",
      "127.0.0.1 - - [21/Mar/2025 10:17:46] \"GET / HTTP/1.1\" 200 -\n",
      "127.0.0.1 - - [21/Mar/2025 10:17:46] \"GET /static/style.css HTTP/1.1\" 404 -\n"
     ]
    }
   ],
   "source": [
    "app = Flask(__name__)\n",
    "\n",
    "@app.route(\"/\")\n",
    "def home():\n",
    "    with open(\"annonces.json\",\"r\", encoding=\"utf-8\") as fichier:\n",
    "        scrape_sites = json.load(fichier)\n",
    "    return render_template(\"index.html\",annonces = scrape_sites)\n",
    "\n",
    "if __name__ == \"__main__\":\n",
    "    app.run(debug=False)"
   ]
  }
 ],
 "metadata": {
  "kernelspec": {
   "display_name": "Python 3 (ipykernel)",
   "language": "python",
   "name": "python3"
  },
  "language_info": {
   "codemirror_mode": {
    "name": "ipython",
    "version": 3
   },
   "file_extension": ".py",
   "mimetype": "text/x-python",
   "name": "python",
   "nbconvert_exporter": "python",
   "pygments_lexer": "ipython3",
   "version": "3.12.4"
  }
 },
 "nbformat": 4,
 "nbformat_minor": 5
}
